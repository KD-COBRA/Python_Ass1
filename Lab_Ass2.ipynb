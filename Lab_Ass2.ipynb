{
 "cells": [
  {
   "cell_type": "code",
   "execution_count": 1,
   "id": "8c626d4a",
   "metadata": {},
   "outputs": [
    {
     "name": "stdout",
     "output_type": "stream",
     "text": [
      "['Std_name', 'phn_num', 'email', 'DOB']\n",
      "['Std_name', 'phn_num', 'email', 'DOB', 'std_id']\n",
      "['Std_name', 'phn_num', 'email', 'DOB', 'std_id', 'admin-id', 'admin_name']\n",
      "['Std_name', 'phn_num', 'email', 'DOB', 'std_id', 'admin-id', 'admin_name', ('Multivalued_attribute', 'Full_name')]\n"
     ]
    }
   ],
   "source": [
    "student_portal=[\"Std_name\",\"phn_num\",\"email\"]\n",
    "student_portal1=[\"admin-id\",\"admin_name\"]\n",
    "student_portal2={\"Multivalued_attribute\":\"Full_name\"}\n",
    "student_portal.insert(3,\"DOB\")\n",
    "print(student_portal)\n",
    "student_portal.append(\"std_id\")\n",
    "print(student_portal)\n",
    "\n",
    "student_portal.extend(student_portal1)\n",
    "print(student_portal)\n",
    "\n",
    "student_portal.extend(student_portal2.items())\n",
    "print(student_portal)"
   ]
  },
  {
   "cell_type": "code",
   "execution_count": 2,
   "id": "3a9de918",
   "metadata": {},
   "outputs": [
    {
     "name": "stdout",
     "output_type": "stream",
     "text": [
      "[6, 2, 3, 4, 5, 1]\n"
     ]
    }
   ],
   "source": [
    "li1=[1,2,3,4,5,6]\n",
    "l=len(li1)\n",
    "if len(li1)<2:\n",
    "    print(\"Cannot swap\")\n",
    "else:\n",
    "    temp=li1[0]\n",
    "    li1[0]=li1[l-1]\n",
    "    li1[l-1]=temp\n",
    "print(li1)"
   ]
  },
  {
   "cell_type": "code",
   "execution_count": 3,
   "id": "493fae33",
   "metadata": {},
   "outputs": [
    {
     "name": "stdout",
     "output_type": "stream",
     "text": [
      "21\n"
     ]
    }
   ],
   "source": [
    "li2=[1,2,3,4,5,6]\n",
    "sum=0\n",
    "for i in range(len(li2)):\n",
    "    sum=sum+li2[i]\n",
    "print(sum)"
   ]
  },
  {
   "cell_type": "code",
   "execution_count": 4,
   "id": "f81e238f",
   "metadata": {},
   "outputs": [
    {
     "name": "stdout",
     "output_type": "stream",
     "text": [
      "0\n"
     ]
    }
   ],
   "source": [
    "li2=[1,2,3,0,5,6]\n",
    "smallest=li2[0]\n",
    "for i in li2:\n",
    "    if i< smallest:\n",
    "        smallest=i\n",
    "print(smallest)"
   ]
  },
  {
   "cell_type": "code",
   "execution_count": 5,
   "id": "ab77f76e",
   "metadata": {},
   "outputs": [
    {
     "name": "stdout",
     "output_type": "stream",
     "text": [
      "['Age', 'Name', 'std_id', 'year']\n",
      "[('year', 2023), ('std_id', 1), ('Name', 'Koushik Das'), ('Age', 2347232)]\n"
     ]
    }
   ],
   "source": [
    "dict1={\"Name\":\"Koushik Das\",\"Age\":2347232,\"year\":2023,\"std_id\":1}\n",
    "print(sorted(dict1))\n",
    "print(sorted(dict1.items(),reverse=True))\n"
   ]
  },
  {
   "cell_type": "code",
   "execution_count": 6,
   "id": "1086de54",
   "metadata": {},
   "outputs": [
    {
     "name": "stdout",
     "output_type": "stream",
     "text": [
      "6\n"
     ]
    }
   ],
   "source": [
    "dict2={\"x\":1,\"y\":2,\"z\":3}\n",
    "a=list(dict2.values())\n",
    "sum=0\n",
    "for i in a:\n",
    "    sum=sum+i\n",
    "print(sum)"
   ]
  },
  {
   "cell_type": "code",
   "execution_count": 7,
   "id": "86ba5eec",
   "metadata": {},
   "outputs": [
    {
     "name": "stdout",
     "output_type": "stream",
     "text": [
      "[10, 8, 7, 5, 3, 2]\n"
     ]
    }
   ],
   "source": [
    "values = [10, 5, 8, 3, 7, 2]\n",
    "\n",
    "# Sort the list in descending order using a lambda function\n",
    "sorted_values = sorted(values, key=lambda x: -x)\n",
    "\n",
    "# Print the sorted values\n",
    "print(sorted_values)"
   ]
  },
  {
   "cell_type": "code",
   "execution_count": null,
   "id": "1c5dd340",
   "metadata": {},
   "outputs": [],
   "source": []
  }
 ],
 "metadata": {
  "kernelspec": {
   "display_name": "Python 3.10.6 64-bit",
   "language": "python",
   "name": "python3"
  },
  "language_info": {
   "codemirror_mode": {
    "name": "ipython",
    "version": 3
   },
   "file_extension": ".py",
   "mimetype": "text/x-python",
   "name": "python",
   "nbconvert_exporter": "python",
   "pygments_lexer": "ipython3",
   "version": "3.10.6"
  },
  "vscode": {
   "interpreter": {
    "hash": "52634da84371cba311ea128a5ea7cdc41ff074b781779e754b270ff9f8153cee"
   }
  }
 },
 "nbformat": 4,
 "nbformat_minor": 5
}
